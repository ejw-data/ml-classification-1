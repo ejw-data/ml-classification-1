{
 "cells": [
  {
   "cell_type": "code",
   "execution_count": 99,
   "metadata": {},
   "outputs": [],
   "source": [
    "# Update sklearn to prevent version mismatches\n",
    "# !pip install sklearn --upgrade"
   ]
  },
  {
   "cell_type": "code",
   "execution_count": 100,
   "metadata": {},
   "outputs": [],
   "source": [
    "# install joblib. This will be used to save your model. \n",
    "# Restart your kernel after installing \n",
    "# !pip install joblib"
   ]
  },
  {
   "cell_type": "code",
   "execution_count": 156,
   "metadata": {},
   "outputs": [],
   "source": [
    "import numpy as np\n",
    "import pandas as pd\n",
    "pd.set_option('display.max_columns', 100)\n",
    "\n",
    "import matplotlib.pyplot as plt\n",
    "\n",
    "from matplotlib import style\n",
    "style.use(\"ggplot\")\n",
    "\n",
    "from sklearn.model_selection import train_test_split\n",
    "from sklearn.preprocessing import StandardScaler\n",
    "from sklearn.preprocessing import LabelEncoder\n",
    "from sklearn.preprocessing import OrdinalEncoder\n",
    "from sklearn.feature_selection import SelectKBest\n",
    "from sklearn.feature_selection import chi2\n"
   ]
  },
  {
   "cell_type": "markdown",
   "metadata": {},
   "source": [
    "# Read the CSV and Perform Basic Data Cleaning"
   ]
  },
  {
   "cell_type": "code",
   "execution_count": 157,
   "metadata": {},
   "outputs": [
    {
     "data": {
      "text/html": [
       "<div>\n",
       "<style scoped>\n",
       "    .dataframe tbody tr th:only-of-type {\n",
       "        vertical-align: middle;\n",
       "    }\n",
       "\n",
       "    .dataframe tbody tr th {\n",
       "        vertical-align: top;\n",
       "    }\n",
       "\n",
       "    .dataframe thead th {\n",
       "        text-align: right;\n",
       "    }\n",
       "</style>\n",
       "<table border=\"1\" class=\"dataframe\">\n",
       "  <thead>\n",
       "    <tr style=\"text-align: right;\">\n",
       "      <th></th>\n",
       "      <th>koi_disposition</th>\n",
       "      <th>koi_fpflag_nt</th>\n",
       "      <th>koi_fpflag_ss</th>\n",
       "      <th>koi_fpflag_co</th>\n",
       "      <th>koi_fpflag_ec</th>\n",
       "      <th>koi_period</th>\n",
       "      <th>koi_period_err1</th>\n",
       "      <th>koi_period_err2</th>\n",
       "      <th>koi_time0bk</th>\n",
       "      <th>koi_time0bk_err1</th>\n",
       "      <th>koi_time0bk_err2</th>\n",
       "      <th>koi_impact</th>\n",
       "      <th>koi_impact_err1</th>\n",
       "      <th>koi_impact_err2</th>\n",
       "      <th>koi_duration</th>\n",
       "      <th>koi_duration_err1</th>\n",
       "      <th>koi_duration_err2</th>\n",
       "      <th>koi_depth</th>\n",
       "      <th>koi_depth_err1</th>\n",
       "      <th>koi_depth_err2</th>\n",
       "      <th>koi_prad</th>\n",
       "      <th>koi_prad_err1</th>\n",
       "      <th>koi_prad_err2</th>\n",
       "      <th>koi_teq</th>\n",
       "      <th>koi_insol</th>\n",
       "      <th>koi_insol_err1</th>\n",
       "      <th>koi_insol_err2</th>\n",
       "      <th>koi_model_snr</th>\n",
       "      <th>koi_tce_plnt_num</th>\n",
       "      <th>koi_steff</th>\n",
       "      <th>koi_steff_err1</th>\n",
       "      <th>koi_steff_err2</th>\n",
       "      <th>koi_slogg</th>\n",
       "      <th>koi_slogg_err1</th>\n",
       "      <th>koi_slogg_err2</th>\n",
       "      <th>koi_srad</th>\n",
       "      <th>koi_srad_err1</th>\n",
       "      <th>koi_srad_err2</th>\n",
       "      <th>ra</th>\n",
       "      <th>dec</th>\n",
       "      <th>koi_kepmag</th>\n",
       "    </tr>\n",
       "  </thead>\n",
       "  <tbody>\n",
       "    <tr>\n",
       "      <th>0</th>\n",
       "      <td>CONFIRMED</td>\n",
       "      <td>0</td>\n",
       "      <td>0</td>\n",
       "      <td>0</td>\n",
       "      <td>0</td>\n",
       "      <td>54.418383</td>\n",
       "      <td>2.479000e-04</td>\n",
       "      <td>-2.479000e-04</td>\n",
       "      <td>162.513840</td>\n",
       "      <td>0.003520</td>\n",
       "      <td>-0.003520</td>\n",
       "      <td>0.586</td>\n",
       "      <td>0.059</td>\n",
       "      <td>-0.443</td>\n",
       "      <td>4.50700</td>\n",
       "      <td>0.11600</td>\n",
       "      <td>-0.11600</td>\n",
       "      <td>874.8</td>\n",
       "      <td>35.5</td>\n",
       "      <td>-35.5</td>\n",
       "      <td>2.83</td>\n",
       "      <td>0.32</td>\n",
       "      <td>-0.19</td>\n",
       "      <td>443</td>\n",
       "      <td>9.11</td>\n",
       "      <td>2.87</td>\n",
       "      <td>-1.62</td>\n",
       "      <td>25.8</td>\n",
       "      <td>2</td>\n",
       "      <td>5455</td>\n",
       "      <td>81</td>\n",
       "      <td>-81</td>\n",
       "      <td>4.467</td>\n",
       "      <td>0.064</td>\n",
       "      <td>-0.096</td>\n",
       "      <td>0.927</td>\n",
       "      <td>0.105</td>\n",
       "      <td>-0.061</td>\n",
       "      <td>291.93423</td>\n",
       "      <td>48.141651</td>\n",
       "      <td>15.347</td>\n",
       "    </tr>\n",
       "    <tr>\n",
       "      <th>1</th>\n",
       "      <td>FALSE POSITIVE</td>\n",
       "      <td>0</td>\n",
       "      <td>1</td>\n",
       "      <td>0</td>\n",
       "      <td>0</td>\n",
       "      <td>19.899140</td>\n",
       "      <td>1.490000e-05</td>\n",
       "      <td>-1.490000e-05</td>\n",
       "      <td>175.850252</td>\n",
       "      <td>0.000581</td>\n",
       "      <td>-0.000581</td>\n",
       "      <td>0.969</td>\n",
       "      <td>5.126</td>\n",
       "      <td>-0.077</td>\n",
       "      <td>1.78220</td>\n",
       "      <td>0.03410</td>\n",
       "      <td>-0.03410</td>\n",
       "      <td>10829.0</td>\n",
       "      <td>171.0</td>\n",
       "      <td>-171.0</td>\n",
       "      <td>14.60</td>\n",
       "      <td>3.92</td>\n",
       "      <td>-1.31</td>\n",
       "      <td>638</td>\n",
       "      <td>39.30</td>\n",
       "      <td>31.04</td>\n",
       "      <td>-10.49</td>\n",
       "      <td>76.3</td>\n",
       "      <td>1</td>\n",
       "      <td>5853</td>\n",
       "      <td>158</td>\n",
       "      <td>-176</td>\n",
       "      <td>4.544</td>\n",
       "      <td>0.044</td>\n",
       "      <td>-0.176</td>\n",
       "      <td>0.868</td>\n",
       "      <td>0.233</td>\n",
       "      <td>-0.078</td>\n",
       "      <td>297.00482</td>\n",
       "      <td>48.134129</td>\n",
       "      <td>15.436</td>\n",
       "    </tr>\n",
       "    <tr>\n",
       "      <th>2</th>\n",
       "      <td>FALSE POSITIVE</td>\n",
       "      <td>0</td>\n",
       "      <td>1</td>\n",
       "      <td>0</td>\n",
       "      <td>0</td>\n",
       "      <td>1.736952</td>\n",
       "      <td>2.630000e-07</td>\n",
       "      <td>-2.630000e-07</td>\n",
       "      <td>170.307565</td>\n",
       "      <td>0.000115</td>\n",
       "      <td>-0.000115</td>\n",
       "      <td>1.276</td>\n",
       "      <td>0.115</td>\n",
       "      <td>-0.092</td>\n",
       "      <td>2.40641</td>\n",
       "      <td>0.00537</td>\n",
       "      <td>-0.00537</td>\n",
       "      <td>8079.2</td>\n",
       "      <td>12.8</td>\n",
       "      <td>-12.8</td>\n",
       "      <td>33.46</td>\n",
       "      <td>8.50</td>\n",
       "      <td>-2.83</td>\n",
       "      <td>1395</td>\n",
       "      <td>891.96</td>\n",
       "      <td>668.95</td>\n",
       "      <td>-230.35</td>\n",
       "      <td>505.6</td>\n",
       "      <td>1</td>\n",
       "      <td>5805</td>\n",
       "      <td>157</td>\n",
       "      <td>-174</td>\n",
       "      <td>4.564</td>\n",
       "      <td>0.053</td>\n",
       "      <td>-0.168</td>\n",
       "      <td>0.791</td>\n",
       "      <td>0.201</td>\n",
       "      <td>-0.067</td>\n",
       "      <td>285.53461</td>\n",
       "      <td>48.285210</td>\n",
       "      <td>15.597</td>\n",
       "    </tr>\n",
       "    <tr>\n",
       "      <th>3</th>\n",
       "      <td>CONFIRMED</td>\n",
       "      <td>0</td>\n",
       "      <td>0</td>\n",
       "      <td>0</td>\n",
       "      <td>0</td>\n",
       "      <td>2.525592</td>\n",
       "      <td>3.760000e-06</td>\n",
       "      <td>-3.760000e-06</td>\n",
       "      <td>171.595550</td>\n",
       "      <td>0.001130</td>\n",
       "      <td>-0.001130</td>\n",
       "      <td>0.701</td>\n",
       "      <td>0.235</td>\n",
       "      <td>-0.478</td>\n",
       "      <td>1.65450</td>\n",
       "      <td>0.04200</td>\n",
       "      <td>-0.04200</td>\n",
       "      <td>603.3</td>\n",
       "      <td>16.9</td>\n",
       "      <td>-16.9</td>\n",
       "      <td>2.75</td>\n",
       "      <td>0.88</td>\n",
       "      <td>-0.35</td>\n",
       "      <td>1406</td>\n",
       "      <td>926.16</td>\n",
       "      <td>874.33</td>\n",
       "      <td>-314.24</td>\n",
       "      <td>40.9</td>\n",
       "      <td>1</td>\n",
       "      <td>6031</td>\n",
       "      <td>169</td>\n",
       "      <td>-211</td>\n",
       "      <td>4.438</td>\n",
       "      <td>0.070</td>\n",
       "      <td>-0.210</td>\n",
       "      <td>1.046</td>\n",
       "      <td>0.334</td>\n",
       "      <td>-0.133</td>\n",
       "      <td>288.75488</td>\n",
       "      <td>48.226200</td>\n",
       "      <td>15.509</td>\n",
       "    </tr>\n",
       "    <tr>\n",
       "      <th>4</th>\n",
       "      <td>CONFIRMED</td>\n",
       "      <td>0</td>\n",
       "      <td>0</td>\n",
       "      <td>0</td>\n",
       "      <td>0</td>\n",
       "      <td>4.134435</td>\n",
       "      <td>1.050000e-05</td>\n",
       "      <td>-1.050000e-05</td>\n",
       "      <td>172.979370</td>\n",
       "      <td>0.001900</td>\n",
       "      <td>-0.001900</td>\n",
       "      <td>0.762</td>\n",
       "      <td>0.139</td>\n",
       "      <td>-0.532</td>\n",
       "      <td>3.14020</td>\n",
       "      <td>0.06730</td>\n",
       "      <td>-0.06730</td>\n",
       "      <td>686.0</td>\n",
       "      <td>18.7</td>\n",
       "      <td>-18.7</td>\n",
       "      <td>2.77</td>\n",
       "      <td>0.90</td>\n",
       "      <td>-0.30</td>\n",
       "      <td>1160</td>\n",
       "      <td>427.65</td>\n",
       "      <td>420.33</td>\n",
       "      <td>-136.70</td>\n",
       "      <td>40.2</td>\n",
       "      <td>2</td>\n",
       "      <td>6046</td>\n",
       "      <td>189</td>\n",
       "      <td>-232</td>\n",
       "      <td>4.486</td>\n",
       "      <td>0.054</td>\n",
       "      <td>-0.229</td>\n",
       "      <td>0.972</td>\n",
       "      <td>0.315</td>\n",
       "      <td>-0.105</td>\n",
       "      <td>296.28613</td>\n",
       "      <td>48.224670</td>\n",
       "      <td>15.714</td>\n",
       "    </tr>\n",
       "  </tbody>\n",
       "</table>\n",
       "</div>"
      ],
      "text/plain": [
       "  koi_disposition  koi_fpflag_nt  koi_fpflag_ss  koi_fpflag_co  koi_fpflag_ec  \\\n",
       "0       CONFIRMED              0              0              0              0   \n",
       "1  FALSE POSITIVE              0              1              0              0   \n",
       "2  FALSE POSITIVE              0              1              0              0   \n",
       "3       CONFIRMED              0              0              0              0   \n",
       "4       CONFIRMED              0              0              0              0   \n",
       "\n",
       "   koi_period  koi_period_err1  koi_period_err2  koi_time0bk  \\\n",
       "0   54.418383     2.479000e-04    -2.479000e-04   162.513840   \n",
       "1   19.899140     1.490000e-05    -1.490000e-05   175.850252   \n",
       "2    1.736952     2.630000e-07    -2.630000e-07   170.307565   \n",
       "3    2.525592     3.760000e-06    -3.760000e-06   171.595550   \n",
       "4    4.134435     1.050000e-05    -1.050000e-05   172.979370   \n",
       "\n",
       "   koi_time0bk_err1  koi_time0bk_err2  koi_impact  koi_impact_err1  \\\n",
       "0          0.003520         -0.003520       0.586            0.059   \n",
       "1          0.000581         -0.000581       0.969            5.126   \n",
       "2          0.000115         -0.000115       1.276            0.115   \n",
       "3          0.001130         -0.001130       0.701            0.235   \n",
       "4          0.001900         -0.001900       0.762            0.139   \n",
       "\n",
       "   koi_impact_err2  koi_duration  koi_duration_err1  koi_duration_err2  \\\n",
       "0           -0.443       4.50700            0.11600           -0.11600   \n",
       "1           -0.077       1.78220            0.03410           -0.03410   \n",
       "2           -0.092       2.40641            0.00537           -0.00537   \n",
       "3           -0.478       1.65450            0.04200           -0.04200   \n",
       "4           -0.532       3.14020            0.06730           -0.06730   \n",
       "\n",
       "   koi_depth  koi_depth_err1  koi_depth_err2  koi_prad  koi_prad_err1  \\\n",
       "0      874.8            35.5           -35.5      2.83           0.32   \n",
       "1    10829.0           171.0          -171.0     14.60           3.92   \n",
       "2     8079.2            12.8           -12.8     33.46           8.50   \n",
       "3      603.3            16.9           -16.9      2.75           0.88   \n",
       "4      686.0            18.7           -18.7      2.77           0.90   \n",
       "\n",
       "   koi_prad_err2  koi_teq  koi_insol  koi_insol_err1  koi_insol_err2  \\\n",
       "0          -0.19      443       9.11            2.87           -1.62   \n",
       "1          -1.31      638      39.30           31.04          -10.49   \n",
       "2          -2.83     1395     891.96          668.95         -230.35   \n",
       "3          -0.35     1406     926.16          874.33         -314.24   \n",
       "4          -0.30     1160     427.65          420.33         -136.70   \n",
       "\n",
       "   koi_model_snr  koi_tce_plnt_num  koi_steff  koi_steff_err1  koi_steff_err2  \\\n",
       "0           25.8                 2       5455              81             -81   \n",
       "1           76.3                 1       5853             158            -176   \n",
       "2          505.6                 1       5805             157            -174   \n",
       "3           40.9                 1       6031             169            -211   \n",
       "4           40.2                 2       6046             189            -232   \n",
       "\n",
       "   koi_slogg  koi_slogg_err1  koi_slogg_err2  koi_srad  koi_srad_err1  \\\n",
       "0      4.467           0.064          -0.096     0.927          0.105   \n",
       "1      4.544           0.044          -0.176     0.868          0.233   \n",
       "2      4.564           0.053          -0.168     0.791          0.201   \n",
       "3      4.438           0.070          -0.210     1.046          0.334   \n",
       "4      4.486           0.054          -0.229     0.972          0.315   \n",
       "\n",
       "   koi_srad_err2         ra        dec  koi_kepmag  \n",
       "0         -0.061  291.93423  48.141651      15.347  \n",
       "1         -0.078  297.00482  48.134129      15.436  \n",
       "2         -0.067  285.53461  48.285210      15.597  \n",
       "3         -0.133  288.75488  48.226200      15.509  \n",
       "4         -0.105  296.28613  48.224670      15.714  "
      ]
     },
     "execution_count": 157,
     "metadata": {},
     "output_type": "execute_result"
    }
   ],
   "source": [
    "df = pd.read_csv(\"data/exoplanet_data.csv\")\n",
    "# Drop the null columns where all values are null\n",
    "df = df.dropna(axis='columns', how='all')\n",
    "# Drop the null rows\n",
    "df = df.dropna()\n",
    "df.head()"
   ]
  },
  {
   "cell_type": "code",
   "execution_count": 158,
   "metadata": {},
   "outputs": [
    {
     "data": {
      "text/plain": [
       "array(['CONFIRMED', 'FALSE POSITIVE', 'CANDIDATE'], dtype=object)"
      ]
     },
     "execution_count": 158,
     "metadata": {},
     "output_type": "execute_result"
    }
   ],
   "source": [
    "df['koi_disposition'].unique()"
   ]
  },
  {
   "cell_type": "markdown",
   "metadata": {},
   "source": [
    "# Select your features (columns)"
   ]
  },
  {
   "cell_type": "code",
   "execution_count": 159,
   "metadata": {},
   "outputs": [],
   "source": [
    "# Set features. This will also be used as your x values.\n",
    "# X_numerical = df.drop(['koi_disposition'], axis=1)   # ['koi_disposition', \"koi_fpflag_nt\", 'koi_fpflag_ss', 'koi_fpflag_co', 'koi_fpflag_ec']\n",
    "X_numerical = df[['koi_fpflag_co','koi_fpflag_nt','koi_fpflag_ss','koi_model_snr','koi_prad','koi_fpflag_ec','koi_prad_err1','koi_prad_err2','koi_duration_err2','koi_steff_err1','koi_duration_err1','koi_steff_err2','koi_duration','koi_time0bk_err2','koi_time0bk_err1']]\n",
    "\n",
    "y = df['koi_disposition']"
   ]
  },
  {
   "cell_type": "markdown",
   "metadata": {},
   "source": [
    "# Create a Train Test Split\n",
    "\n",
    "Use `koi_disposition` for the y values"
   ]
  },
  {
   "cell_type": "code",
   "execution_count": 160,
   "metadata": {},
   "outputs": [],
   "source": [
    "X_train, X_test, y_train, y_test = train_test_split(X_numerical, y, test_size=0.33, random_state=1)"
   ]
  },
  {
   "cell_type": "code",
   "execution_count": 161,
   "metadata": {},
   "outputs": [
    {
     "data": {
      "text/html": [
       "<div>\n",
       "<style scoped>\n",
       "    .dataframe tbody tr th:only-of-type {\n",
       "        vertical-align: middle;\n",
       "    }\n",
       "\n",
       "    .dataframe tbody tr th {\n",
       "        vertical-align: top;\n",
       "    }\n",
       "\n",
       "    .dataframe thead th {\n",
       "        text-align: right;\n",
       "    }\n",
       "</style>\n",
       "<table border=\"1\" class=\"dataframe\">\n",
       "  <thead>\n",
       "    <tr style=\"text-align: right;\">\n",
       "      <th></th>\n",
       "      <th>koi_fpflag_co</th>\n",
       "      <th>koi_fpflag_nt</th>\n",
       "      <th>koi_fpflag_ss</th>\n",
       "      <th>koi_model_snr</th>\n",
       "      <th>koi_prad</th>\n",
       "      <th>koi_fpflag_ec</th>\n",
       "      <th>koi_prad_err1</th>\n",
       "      <th>koi_prad_err2</th>\n",
       "      <th>koi_duration_err2</th>\n",
       "      <th>koi_steff_err1</th>\n",
       "      <th>koi_duration_err1</th>\n",
       "      <th>koi_steff_err2</th>\n",
       "      <th>koi_duration</th>\n",
       "      <th>koi_time0bk_err2</th>\n",
       "      <th>koi_time0bk_err1</th>\n",
       "    </tr>\n",
       "  </thead>\n",
       "  <tbody>\n",
       "    <tr>\n",
       "      <th>2067</th>\n",
       "      <td>1</td>\n",
       "      <td>0</td>\n",
       "      <td>0</td>\n",
       "      <td>74.3</td>\n",
       "      <td>7.84</td>\n",
       "      <td>1</td>\n",
       "      <td>1.17</td>\n",
       "      <td>-2.55</td>\n",
       "      <td>-0.0693</td>\n",
       "      <td>170</td>\n",
       "      <td>0.0693</td>\n",
       "      <td>-170</td>\n",
       "      <td>3.4303</td>\n",
       "      <td>-0.00105</td>\n",
       "      <td>0.00105</td>\n",
       "    </tr>\n",
       "    <tr>\n",
       "      <th>6706</th>\n",
       "      <td>0</td>\n",
       "      <td>1</td>\n",
       "      <td>0</td>\n",
       "      <td>11.6</td>\n",
       "      <td>1.82</td>\n",
       "      <td>0</td>\n",
       "      <td>0.11</td>\n",
       "      <td>-0.19</td>\n",
       "      <td>-1.5000</td>\n",
       "      <td>145</td>\n",
       "      <td>1.5000</td>\n",
       "      <td>-145</td>\n",
       "      <td>23.6600</td>\n",
       "      <td>-0.03940</td>\n",
       "      <td>0.03940</td>\n",
       "    </tr>\n",
       "    <tr>\n",
       "      <th>4935</th>\n",
       "      <td>0</td>\n",
       "      <td>0</td>\n",
       "      <td>0</td>\n",
       "      <td>11.7</td>\n",
       "      <td>2.15</td>\n",
       "      <td>0</td>\n",
       "      <td>0.77</td>\n",
       "      <td>-0.31</td>\n",
       "      <td>-0.6230</td>\n",
       "      <td>169</td>\n",
       "      <td>0.6230</td>\n",
       "      <td>-175</td>\n",
       "      <td>11.4280</td>\n",
       "      <td>-0.02090</td>\n",
       "      <td>0.02090</td>\n",
       "    </tr>\n",
       "    <tr>\n",
       "      <th>1859</th>\n",
       "      <td>1</td>\n",
       "      <td>0</td>\n",
       "      <td>0</td>\n",
       "      <td>15.1</td>\n",
       "      <td>0.64</td>\n",
       "      <td>1</td>\n",
       "      <td>0.14</td>\n",
       "      <td>-0.07</td>\n",
       "      <td>-0.3050</td>\n",
       "      <td>152</td>\n",
       "      <td>0.3050</td>\n",
       "      <td>-152</td>\n",
       "      <td>4.2680</td>\n",
       "      <td>-0.00980</td>\n",
       "      <td>0.00980</td>\n",
       "    </tr>\n",
       "    <tr>\n",
       "      <th>190</th>\n",
       "      <td>0</td>\n",
       "      <td>0</td>\n",
       "      <td>0</td>\n",
       "      <td>36.4</td>\n",
       "      <td>2.85</td>\n",
       "      <td>0</td>\n",
       "      <td>0.80</td>\n",
       "      <td>-0.34</td>\n",
       "      <td>-0.0630</td>\n",
       "      <td>162</td>\n",
       "      <td>0.0630</td>\n",
       "      <td>-217</td>\n",
       "      <td>2.5833</td>\n",
       "      <td>-0.00176</td>\n",
       "      <td>0.00176</td>\n",
       "    </tr>\n",
       "  </tbody>\n",
       "</table>\n",
       "</div>"
      ],
      "text/plain": [
       "      koi_fpflag_co  koi_fpflag_nt  koi_fpflag_ss  koi_model_snr  koi_prad  \\\n",
       "2067              1              0              0           74.3      7.84   \n",
       "6706              0              1              0           11.6      1.82   \n",
       "4935              0              0              0           11.7      2.15   \n",
       "1859              1              0              0           15.1      0.64   \n",
       "190               0              0              0           36.4      2.85   \n",
       "\n",
       "      koi_fpflag_ec  koi_prad_err1  koi_prad_err2  koi_duration_err2  \\\n",
       "2067              1           1.17          -2.55            -0.0693   \n",
       "6706              0           0.11          -0.19            -1.5000   \n",
       "4935              0           0.77          -0.31            -0.6230   \n",
       "1859              1           0.14          -0.07            -0.3050   \n",
       "190               0           0.80          -0.34            -0.0630   \n",
       "\n",
       "      koi_steff_err1  koi_duration_err1  koi_steff_err2  koi_duration  \\\n",
       "2067             170             0.0693            -170        3.4303   \n",
       "6706             145             1.5000            -145       23.6600   \n",
       "4935             169             0.6230            -175       11.4280   \n",
       "1859             152             0.3050            -152        4.2680   \n",
       "190              162             0.0630            -217        2.5833   \n",
       "\n",
       "      koi_time0bk_err2  koi_time0bk_err1  \n",
       "2067          -0.00105           0.00105  \n",
       "6706          -0.03940           0.03940  \n",
       "4935          -0.02090           0.02090  \n",
       "1859          -0.00980           0.00980  \n",
       "190           -0.00176           0.00176  "
      ]
     },
     "execution_count": 161,
     "metadata": {},
     "output_type": "execute_result"
    }
   ],
   "source": [
    "X_train.head()"
   ]
  },
  {
   "cell_type": "code",
   "execution_count": 162,
   "metadata": {},
   "outputs": [
    {
     "data": {
      "text/plain": [
       "koi_fpflag_co          int64\n",
       "koi_fpflag_nt          int64\n",
       "koi_fpflag_ss          int64\n",
       "koi_model_snr        float64\n",
       "koi_prad             float64\n",
       "koi_fpflag_ec          int64\n",
       "koi_prad_err1        float64\n",
       "koi_prad_err2        float64\n",
       "koi_duration_err2    float64\n",
       "koi_steff_err1         int64\n",
       "koi_duration_err1    float64\n",
       "koi_steff_err2         int64\n",
       "koi_duration         float64\n",
       "koi_time0bk_err2     float64\n",
       "koi_time0bk_err1     float64\n",
       "dtype: object"
      ]
     },
     "execution_count": 162,
     "metadata": {},
     "output_type": "execute_result"
    }
   ],
   "source": [
    "X_test.dtypes"
   ]
  },
  {
   "cell_type": "code",
   "execution_count": 163,
   "metadata": {},
   "outputs": [
    {
     "data": {
      "text/plain": [
       "Index(['koi_fpflag_co', 'koi_fpflag_nt', 'koi_fpflag_ss', 'koi_model_snr',\n",
       "       'koi_prad', 'koi_fpflag_ec', 'koi_prad_err1', 'koi_prad_err2',\n",
       "       'koi_duration_err2', 'koi_steff_err1', 'koi_duration_err1',\n",
       "       'koi_steff_err2', 'koi_duration', 'koi_time0bk_err2',\n",
       "       'koi_time0bk_err1'],\n",
       "      dtype='object')"
      ]
     },
     "execution_count": 163,
     "metadata": {},
     "output_type": "execute_result"
    }
   ],
   "source": [
    "feature_names = X_train.columns\n",
    "feature_names"
   ]
  },
  {
   "cell_type": "markdown",
   "metadata": {},
   "source": [
    "# Pre-processing\n",
    "\n",
    "Scale the data using the MinMaxScaler and perform some feature selection"
   ]
  },
  {
   "cell_type": "code",
   "execution_count": 164,
   "metadata": {},
   "outputs": [],
   "source": [
    "# Scale data\n",
    "# from sklearn.preprocessing import StandardScaler\n",
    "from sklearn.preprocessing import MinMaxScaler\n",
    "X_scaler = MinMaxScaler().fit(X_train)\n",
    "y_scaler = LabelEncoder().fit(y_train)"
   ]
  },
  {
   "cell_type": "code",
   "execution_count": 165,
   "metadata": {},
   "outputs": [],
   "source": [
    "X_train_scaled = X_scaler.transform(X_train)\n",
    "X_test_scaled = X_scaler.transform(X_test)\n",
    "y_train_scaled = y_scaler.transform(y_train)\n",
    "y_test_scaled = y_scaler.transform(y_test)"
   ]
  },
  {
   "cell_type": "code",
   "execution_count": 166,
   "metadata": {},
   "outputs": [
    {
     "data": {
      "text/plain": [
       "array([0, 1, 2])"
      ]
     },
     "execution_count": 166,
     "metadata": {},
     "output_type": "execute_result"
    }
   ],
   "source": [
    "np.unique(y_train_scaled)"
   ]
  },
  {
   "cell_type": "code",
   "execution_count": 167,
   "metadata": {},
   "outputs": [
    {
     "data": {
      "text/plain": [
       "(4683, 15)"
      ]
     },
     "execution_count": 167,
     "metadata": {},
     "output_type": "execute_result"
    }
   ],
   "source": [
    "np.shape(X_train_scaled)"
   ]
  },
  {
   "cell_type": "code",
   "execution_count": 168,
   "metadata": {},
   "outputs": [
    {
     "data": {
      "text/plain": [
       "(2308, 15)"
      ]
     },
     "execution_count": 168,
     "metadata": {},
     "output_type": "execute_result"
    }
   ],
   "source": [
    "np.shape(X_test_scaled)"
   ]
  },
  {
   "cell_type": "markdown",
   "metadata": {},
   "source": [
    "# Train the Model\n",
    "\n"
   ]
  },
  {
   "cell_type": "code",
   "execution_count": 125,
   "metadata": {},
   "outputs": [
    {
     "data": {
      "image/png": "[encoded data removed]",
      "text/plain": [
       "<Figure size 432x288 with 1 Axes>"
      ]
     },
     "metadata": {},
     "output_type": "display_data"
    }
   ],
   "source": [
    "# Plot the results \n",
    "# this was predicted not to work since it is not a classification \n",
    "from sklearn.linear_model import LinearRegression\n",
    "model = LinearRegression()\n",
    "model.fit(X_train_scaled, y_train_scaled)\n",
    "plt.scatter(model.predict(X_train_scaled), model.predict(X_train_scaled) - y_train_scaled, c=\"blue\", label=\"Training Data\")\n",
    "plt.scatter(model.predict(X_test_scaled), model.predict(X_test_scaled) - y_test_scaled, c=\"orange\", label=\"Testing Data\")\n",
    "plt.legend()\n",
    "plt.hlines(y=0, xmin=y_test_scaled.min(), xmax=y_test_scaled.max())\n",
    "plt.title(\"Residual Plot\")\n",
    "plt.show()"
   ]
  },
  {
   "cell_type": "code",
   "execution_count": 126,
   "metadata": {},
   "outputs": [
    {
     "name": "stdout",
     "output_type": "stream",
     "text": [
      "MSE: 0.23424161505209906, R2: 0.6531157351382884\n"
     ]
    }
   ],
   "source": [
    "from sklearn.metrics import mean_squared_error\n",
    "\n",
    "predictions = model.predict(X_test_scaled)\n",
    "MSE = mean_squared_error(y_test_scaled, predictions)\n",
    "r2 = model.score(X_test_scaled, y_test_scaled)\n",
    "\n",
    "print(f\"MSE: {MSE}, R2: {r2}\")"
   ]
  },
  {
   "cell_type": "code",
   "execution_count": 127,
   "metadata": {},
   "outputs": [
    {
     "name": "stdout",
     "output_type": "stream",
     "text": [
      "Training Data Score: 0.648595755665588\n",
      "Testing Data Score: 0.6531157351382884\n"
     ]
    }
   ],
   "source": [
    "print(f\"Training Data Score: {model.score(X_train_scaled, y_train_scaled)}\")\n",
    "print(f\"Testing Data Score: {model.score(X_test_scaled, y_test_scaled)}\")"
   ]
  },
  {
   "cell_type": "markdown",
   "metadata": {},
   "source": [
    "## Train the Model - Classifier I"
   ]
  },
  {
   "cell_type": "code",
   "execution_count": 172,
   "metadata": {},
   "outputs": [
    {
     "data": {
      "text/plain": [
       "LogisticRegression(C=1.0, class_weight=None, dual=False, fit_intercept=True,\n",
       "                   intercept_scaling=1, l1_ratio=None, max_iter=100,\n",
       "                   multi_class='warn', n_jobs=None, penalty='l2',\n",
       "                   random_state=None, solver='warn', tol=0.0001, verbose=0,\n",
       "                   warm_start=False)"
      ]
     },
     "execution_count": 172,
     "metadata": {},
     "output_type": "execute_result"
    }
   ],
   "source": [
    "from sklearn.linear_model import LogisticRegression\n",
    "classifier = LogisticRegression()\n",
    "classifier"
   ]
  },
  {
   "cell_type": "code",
   "execution_count": 173,
   "metadata": {},
   "outputs": [
    {
     "name": "stderr",
     "output_type": "stream",
     "text": [
      "C:\\Users\\ejwda\\Anaconda3\\envs\\PythonData\\lib\\site-packages\\sklearn\\linear_model\\logistic.py:432: FutureWarning: Default solver will be changed to 'lbfgs' in 0.22. Specify a solver to silence this warning.\n",
      "  FutureWarning)\n",
      "C:\\Users\\ejwda\\Anaconda3\\envs\\PythonData\\lib\\site-packages\\sklearn\\linear_model\\logistic.py:469: FutureWarning: Default multi_class will be changed to 'auto' in 0.22. Specify the multi_class option to silence this warning.\n",
      "  \"this warning.\", FutureWarning)\n"
     ]
    },
    {
     "data": {
      "text/plain": [
       "LogisticRegression(C=1.0, class_weight=None, dual=False, fit_intercept=True,\n",
       "                   intercept_scaling=1, l1_ratio=None, max_iter=100,\n",
       "                   multi_class='warn', n_jobs=None, penalty='l2',\n",
       "                   random_state=None, solver='warn', tol=0.0001, verbose=0,\n",
       "                   warm_start=False)"
      ]
     },
     "execution_count": 173,
     "metadata": {},
     "output_type": "execute_result"
    }
   ],
   "source": [
    "classifier.fit(X_train_scaled, y_train)"
   ]
  },
  {
   "cell_type": "code",
   "execution_count": 174,
   "metadata": {},
   "outputs": [
    {
     "name": "stdout",
     "output_type": "stream",
     "text": [
      "Training Data Score: 0.4947683109118087\n",
      "Testing Data Score: 0.5138648180242634\n"
     ]
    }
   ],
   "source": [
    "print(f\"Training Data Score: {classifier.score(X_train, y_train)}\")\n",
    "print(f\"Testing Data Score: {classifier.score(X_test, y_test)}\")"
   ]
  },
  {
   "cell_type": "code",
   "execution_count": 131,
   "metadata": {},
   "outputs": [
    {
     "name": "stdout",
     "output_type": "stream",
     "text": [
      "First 10 Predictions:   ['CONFIRMED' 'FALSE POSITIVE' 'FALSE POSITIVE' 'CONFIRMED'\n",
      " 'FALSE POSITIVE' 'FALSE POSITIVE' 'FALSE POSITIVE' 'CONFIRMED'\n",
      " 'CONFIRMED' 'FALSE POSITIVE']\n",
      "First 10 Actual labels: ['CONFIRMED', 'FALSE POSITIVE', 'FALSE POSITIVE', 'CONFIRMED', 'FALSE POSITIVE', 'FALSE POSITIVE', 'FALSE POSITIVE', 'CONFIRMED', 'CANDIDATE', 'FALSE POSITIVE']\n"
     ]
    }
   ],
   "source": [
    "predictions = classifier.predict(X_test)\n",
    "print(f\"First 10 Predictions:   {predictions[:10]}\")\n",
    "print(f\"First 10 Actual labels: {y_test[:10].tolist()}\")"
   ]
  },
  {
   "cell_type": "code",
   "execution_count": 132,
   "metadata": {},
   "outputs": [
    {
     "data": {
      "text/html": [
       "<div>\n",
       "<style scoped>\n",
       "    .dataframe tbody tr th:only-of-type {\n",
       "        vertical-align: middle;\n",
       "    }\n",
       "\n",
       "    .dataframe tbody tr th {\n",
       "        vertical-align: top;\n",
       "    }\n",
       "\n",
       "    .dataframe thead th {\n",
       "        text-align: right;\n",
       "    }\n",
       "</style>\n",
       "<table border=\"1\" class=\"dataframe\">\n",
       "  <thead>\n",
       "    <tr style=\"text-align: right;\">\n",
       "      <th></th>\n",
       "      <th>Prediction</th>\n",
       "      <th>Actual</th>\n",
       "    </tr>\n",
       "  </thead>\n",
       "  <tbody>\n",
       "    <tr>\n",
       "      <th>0</th>\n",
       "      <td>CONFIRMED</td>\n",
       "      <td>CONFIRMED</td>\n",
       "    </tr>\n",
       "    <tr>\n",
       "      <th>1</th>\n",
       "      <td>FALSE POSITIVE</td>\n",
       "      <td>FALSE POSITIVE</td>\n",
       "    </tr>\n",
       "    <tr>\n",
       "      <th>2</th>\n",
       "      <td>FALSE POSITIVE</td>\n",
       "      <td>FALSE POSITIVE</td>\n",
       "    </tr>\n",
       "    <tr>\n",
       "      <th>3</th>\n",
       "      <td>CONFIRMED</td>\n",
       "      <td>CONFIRMED</td>\n",
       "    </tr>\n",
       "    <tr>\n",
       "      <th>4</th>\n",
       "      <td>FALSE POSITIVE</td>\n",
       "      <td>FALSE POSITIVE</td>\n",
       "    </tr>\n",
       "    <tr>\n",
       "      <th>5</th>\n",
       "      <td>FALSE POSITIVE</td>\n",
       "      <td>FALSE POSITIVE</td>\n",
       "    </tr>\n",
       "    <tr>\n",
       "      <th>6</th>\n",
       "      <td>FALSE POSITIVE</td>\n",
       "      <td>FALSE POSITIVE</td>\n",
       "    </tr>\n",
       "    <tr>\n",
       "      <th>7</th>\n",
       "      <td>CONFIRMED</td>\n",
       "      <td>CONFIRMED</td>\n",
       "    </tr>\n",
       "    <tr>\n",
       "      <th>8</th>\n",
       "      <td>CONFIRMED</td>\n",
       "      <td>CANDIDATE</td>\n",
       "    </tr>\n",
       "    <tr>\n",
       "      <th>9</th>\n",
       "      <td>FALSE POSITIVE</td>\n",
       "      <td>FALSE POSITIVE</td>\n",
       "    </tr>\n",
       "    <tr>\n",
       "      <th>10</th>\n",
       "      <td>CONFIRMED</td>\n",
       "      <td>CONFIRMED</td>\n",
       "    </tr>\n",
       "    <tr>\n",
       "      <th>11</th>\n",
       "      <td>FALSE POSITIVE</td>\n",
       "      <td>FALSE POSITIVE</td>\n",
       "    </tr>\n",
       "    <tr>\n",
       "      <th>12</th>\n",
       "      <td>FALSE POSITIVE</td>\n",
       "      <td>FALSE POSITIVE</td>\n",
       "    </tr>\n",
       "    <tr>\n",
       "      <th>13</th>\n",
       "      <td>CONFIRMED</td>\n",
       "      <td>CANDIDATE</td>\n",
       "    </tr>\n",
       "    <tr>\n",
       "      <th>14</th>\n",
       "      <td>CANDIDATE</td>\n",
       "      <td>CANDIDATE</td>\n",
       "    </tr>\n",
       "    <tr>\n",
       "      <th>15</th>\n",
       "      <td>CONFIRMED</td>\n",
       "      <td>CONFIRMED</td>\n",
       "    </tr>\n",
       "    <tr>\n",
       "      <th>16</th>\n",
       "      <td>FALSE POSITIVE</td>\n",
       "      <td>FALSE POSITIVE</td>\n",
       "    </tr>\n",
       "    <tr>\n",
       "      <th>17</th>\n",
       "      <td>FALSE POSITIVE</td>\n",
       "      <td>FALSE POSITIVE</td>\n",
       "    </tr>\n",
       "    <tr>\n",
       "      <th>18</th>\n",
       "      <td>CONFIRMED</td>\n",
       "      <td>CONFIRMED</td>\n",
       "    </tr>\n",
       "    <tr>\n",
       "      <th>19</th>\n",
       "      <td>CANDIDATE</td>\n",
       "      <td>CANDIDATE</td>\n",
       "    </tr>\n",
       "  </tbody>\n",
       "</table>\n",
       "</div>"
      ],
      "text/plain": [
       "        Prediction          Actual\n",
       "0        CONFIRMED       CONFIRMED\n",
       "1   FALSE POSITIVE  FALSE POSITIVE\n",
       "2   FALSE POSITIVE  FALSE POSITIVE\n",
       "3        CONFIRMED       CONFIRMED\n",
       "4   FALSE POSITIVE  FALSE POSITIVE\n",
       "5   FALSE POSITIVE  FALSE POSITIVE\n",
       "6   FALSE POSITIVE  FALSE POSITIVE\n",
       "7        CONFIRMED       CONFIRMED\n",
       "8        CONFIRMED       CANDIDATE\n",
       "9   FALSE POSITIVE  FALSE POSITIVE\n",
       "10       CONFIRMED       CONFIRMED\n",
       "11  FALSE POSITIVE  FALSE POSITIVE\n",
       "12  FALSE POSITIVE  FALSE POSITIVE\n",
       "13       CONFIRMED       CANDIDATE\n",
       "14       CANDIDATE       CANDIDATE\n",
       "15       CONFIRMED       CONFIRMED\n",
       "16  FALSE POSITIVE  FALSE POSITIVE\n",
       "17  FALSE POSITIVE  FALSE POSITIVE\n",
       "18       CONFIRMED       CONFIRMED\n",
       "19       CANDIDATE       CANDIDATE"
      ]
     },
     "execution_count": 132,
     "metadata": {},
     "output_type": "execute_result"
    }
   ],
   "source": [
    "df2 = pd.DataFrame({\"Prediction\": predictions, \"Actual\": y_test}).reset_index(drop=True)\n",
    "df2.head(20)"
   ]
  },
  {
   "cell_type": "markdown",
   "metadata": {},
   "source": [
    "## Train the Model - Classifier II"
   ]
  },
  {
   "cell_type": "code",
   "execution_count": 133,
   "metadata": {},
   "outputs": [
    {
     "data": {
      "text/plain": [
       "1.0"
      ]
     },
     "execution_count": 133,
     "metadata": {},
     "output_type": "execute_result"
    }
   ],
   "source": [
    "# Create a random forest classifier\n",
    "from sklearn.ensemble import RandomForestClassifier\n",
    "rf = RandomForestClassifier(n_estimators=200)\n",
    "rf = rf.fit(X_train, y_train)\n",
    "rf.score(X_train, y_train)"
   ]
  },
  {
   "cell_type": "code",
   "execution_count": 134,
   "metadata": {},
   "outputs": [
    {
     "data": {
      "text/plain": [
       "array([0.13495014, 0.11540791, 0.07659493, 0.08339252, 0.08354487,\n",
       "       0.0506476 , 0.05970131, 0.05921415, 0.04893279, 0.05377663,\n",
       "       0.05812825, 0.04608461, 0.04655294, 0.04171541, 0.04135596])"
      ]
     },
     "execution_count": 134,
     "metadata": {},
     "output_type": "execute_result"
    }
   ],
   "source": [
    "# Random Forests in sklearn will automatically calculate feature importance\n",
    "importances = rf.feature_importances_\n",
    "importances"
   ]
  },
  {
   "cell_type": "code",
   "execution_count": 135,
   "metadata": {},
   "outputs": [
    {
     "data": {
      "text/plain": [
       "['koi_fpflag_co',\n",
       " 'koi_fpflag_nt',\n",
       " 'koi_prad',\n",
       " 'koi_model_snr',\n",
       " 'koi_fpflag_ss',\n",
       " 'koi_prad_err1',\n",
       " 'koi_prad_err2',\n",
       " 'koi_duration_err1',\n",
       " 'koi_steff_err1',\n",
       " 'koi_fpflag_ec',\n",
       " 'koi_duration_err2',\n",
       " 'koi_duration',\n",
       " 'koi_steff_err2',\n",
       " 'koi_time0bk_err2',\n",
       " 'koi_time0bk_err1']"
      ]
     },
     "execution_count": 135,
     "metadata": {},
     "output_type": "execute_result"
    }
   ],
   "source": [
    "# We can sort the features by their importance\n",
    "sort_val = sorted(zip(rf.feature_importances_, feature_names), reverse=True)\n",
    "n0=[]\n",
    "n1=[]\n",
    "val = 0\n",
    "[(n0.append(i[1]), n1.append(i[0])) for i in sort_val[:15]]\n",
    "n0"
   ]
  },
  {
   "cell_type": "code",
   "execution_count": 136,
   "metadata": {},
   "outputs": [
    {
     "data": {
      "text/plain": [
       "0.9999999999999999"
      ]
     },
     "execution_count": 136,
     "metadata": {},
     "output_type": "execute_result"
    }
   ],
   "source": [
    "sum(n1)"
   ]
  },
  {
   "cell_type": "markdown",
   "metadata": {},
   "source": [
    "(0.06610593384107973, 'koi_model_snr'),\n",
    " (0.06484630827528662, 'koi_prad'),\n",
    " (0.04951380195045578, 'koi_steff_err2'),\n",
    " (0.04607729072043813, 'koi_prad_err2'),\n",
    " (0.04554055237472794, 'koi_prad_err1'),\n",
    " (0.04201150080120374, 'koi_duration_err2'),\n",
    " (0.04090806919787202, 'koi_steff_err1'),\n",
    " (0.03696056569716269, 'koi_duration_err1'),\n",
    " (0.033746497293473225, 'koi_duration'),\n",
    " (0.03304202128851946, 'koi_impact'),\n",
    " (0.03271075578181022, 'koi_period'),\n",
    " (0.03157706291786335, 'koi_insol_err1'),\n",
    " (0.030403055761797675, 'koi_depth'),\n",
    " (0.027564597256782123, 'koi_teq'),\n",
    " (0.02714549136899293, 'koi_time0bk_err2'),\n",
    " (0.025993333216961893, 'koi_time0bk_err1'),\n",
    " (0.025512950031831686, 'koi_insol'),\n",
    " (0.02422983113431763, 'koi_period_err1'),\n",
    " (0.02283000832167326, 'ra'),\n",
    " (0.022680901948475864, 'koi_insol_err2'),\n",
    " (0.022384978534481483, 'koi_period_err2'),\n",
    " (0.02215778474974851, 'koi_time0bk'),\n",
    " (0.020786805913773177, 'dec'),\n",
    " (0.01962426004984283, 'koi_depth_err1'),\n",
    " (0.019107615249243336, 'koi_depth_err2'),\n",
    " (0.0184051190762865, 'koi_kepmag'),\n",
    " (0.01829905519923685, 'koi_impact_err1'),\n",
    " (0.017616856118120798, 'koi_impact_err2'),\n",
    " (0.01744543311011708, 'koi_srad_err1'),\n",
    " (0.016605184164908426, 'koi_slogg_err2'),\n",
    " (0.015559432901788193, 'koi_steff'),\n",
    " (0.015402622549975422, 'koi_srad'),\n",
    " (0.014956856253066631, 'koi_slogg'),\n",
    " (0.014481806601558827, 'koi_slogg_err1'),\n",
    " (0.013313301728219788, 'koi_srad_err2'),\n",
    " (0.004452358618906134, 'koi_tce_plnt_num')"
   ]
  },
  {
   "cell_type": "markdown",
   "metadata": {},
   "source": [
    "## Train the Model - Classifier III"
   ]
  },
  {
   "cell_type": "code",
   "execution_count": 137,
   "metadata": {},
   "outputs": [
    {
     "data": {
      "text/plain": [
       "1.0"
      ]
     },
     "execution_count": 137,
     "metadata": {},
     "output_type": "execute_result"
    }
   ],
   "source": [
    "# Create and score a decision tree classifier\n",
    "from sklearn import tree\n",
    "clf = tree.DecisionTreeClassifier()\n",
    "clf = clf.fit(X_train, y_train)\n",
    "clf.score(X_train, y_train)"
   ]
  },
  {
   "cell_type": "markdown",
   "metadata": {},
   "source": [
    "## Train the Model - Classifier IV"
   ]
  },
  {
   "cell_type": "code",
   "execution_count": 138,
   "metadata": {},
   "outputs": [
    {
     "name": "stdout",
     "output_type": "stream",
     "text": [
      "k: 1, Train/Test Score: 1.000/0.847\n",
      "k: 3, Train/Test Score: 0.914/0.870\n",
      "k: 5, Train/Test Score: 0.901/0.882\n",
      "k: 7, Train/Test Score: 0.896/0.886\n",
      "k: 9, Train/Test Score: 0.889/0.886\n",
      "k: 11, Train/Test Score: 0.888/0.888\n",
      "k: 13, Train/Test Score: 0.886/0.891\n",
      "k: 15, Train/Test Score: 0.887/0.890\n",
      "k: 17, Train/Test Score: 0.886/0.889\n",
      "k: 19, Train/Test Score: 0.885/0.894\n",
      "k: 21, Train/Test Score: 0.886/0.893\n",
      "k: 23, Train/Test Score: 0.881/0.892\n",
      "k: 25, Train/Test Score: 0.881/0.889\n",
      "k: 27, Train/Test Score: 0.880/0.892\n",
      "k: 29, Train/Test Score: 0.879/0.890\n",
      "k: 31, Train/Test Score: 0.878/0.893\n",
      "k: 33, Train/Test Score: 0.876/0.894\n",
      "k: 35, Train/Test Score: 0.876/0.893\n",
      "k: 37, Train/Test Score: 0.877/0.894\n",
      "k: 39, Train/Test Score: 0.875/0.895\n"
     ]
    },
    {
     "data": {
      "image/png": "[encoded data removed]",
      "text/plain": [
       "<Figure size 432x288 with 1 Axes>"
      ]
     },
     "metadata": {},
     "output_type": "display_data"
    }
   ],
   "source": [
    "# Loop through different k values to see which has the highest accuracy\n",
    "# Note: We only use odd numbers because we don't want any ties\n",
    "from sklearn.neighbors import KNeighborsClassifier\n",
    "train_scores = []\n",
    "test_scores = []\n",
    "for k in range(1, 40, 2):\n",
    "    knn = KNeighborsClassifier(n_neighbors=k)\n",
    "    knn.fit(X_train_scaled, y_train)\n",
    "    train_score = knn.score(X_train_scaled, y_train)\n",
    "    test_score = knn.score(X_test_scaled, y_test)\n",
    "    train_scores.append(train_score)\n",
    "    test_scores.append(test_score)\n",
    "    print(f\"k: {k}, Train/Test Score: {train_score:.3f}/{test_score:.3f}\")\n",
    "    \n",
    "    \n",
    "plt.plot(range(1, 40, 2), train_scores, marker='o')\n",
    "plt.plot(range(1, 40, 2), test_scores, marker=\"x\")\n",
    "plt.xlabel(\"k neighbors\")\n",
    "plt.ylabel(\"Testing accuracy Score\")\n",
    "plt.show()"
   ]
  },
  {
   "cell_type": "code",
   "execution_count": 139,
   "metadata": {},
   "outputs": [
    {
     "name": "stdout",
     "output_type": "stream",
     "text": [
      "k=17 Test Acc: 0.889\n"
     ]
    }
   ],
   "source": [
    "# Note that k: 9 provides the best accuracy where the classifier starts to stablize\n",
    "knn = KNeighborsClassifier(n_neighbors=17)\n",
    "knn.fit(X_train_scaled, y_train)\n",
    "print('k=17 Test Acc: %.3f' % knn.score(X_test_scaled, y_test))\n"
   ]
  },
  {
   "cell_type": "markdown",
   "metadata": {},
   "source": [
    "## Train the Model - Classifier V"
   ]
  },
  {
   "cell_type": "code",
   "execution_count": 140,
   "metadata": {},
   "outputs": [
    {
     "data": {
      "text/plain": [
       "SVC(C=1.0, cache_size=200, class_weight=None, coef0=0.0,\n",
       "    decision_function_shape='ovr', degree=3, gamma='auto_deprecated',\n",
       "    kernel='linear', max_iter=-1, probability=False, random_state=None,\n",
       "    shrinking=True, tol=0.001, verbose=False)"
      ]
     },
     "execution_count": 140,
     "metadata": {},
     "output_type": "execute_result"
    }
   ],
   "source": [
    "from sklearn.svm import SVC \n",
    "model = SVC(kernel='linear')\n",
    "model.fit(X_train_scaled, y_train_scaled)"
   ]
  },
  {
   "cell_type": "code",
   "execution_count": 141,
   "metadata": {},
   "outputs": [],
   "source": [
    "predictions = model.predict(X_test_scaled)"
   ]
  },
  {
   "cell_type": "code",
   "execution_count": 142,
   "metadata": {},
   "outputs": [
    {
     "name": "stdout",
     "output_type": "stream",
     "text": [
      "                precision    recall  f1-score   support\n",
      "\n",
      "     CONFIRMED       0.72      0.65      0.68       548\n",
      "FALSE POSITIVE       0.69      0.75      0.72       572\n",
      "     CANDIDATE       0.99      1.00      0.99      1188\n",
      "\n",
      "      accuracy                           0.85      2308\n",
      "     macro avg       0.80      0.80      0.80      2308\n",
      "  weighted avg       0.85      0.85      0.85      2308\n",
      "\n"
     ]
    }
   ],
   "source": [
    "# Calculate classification report\n",
    "from sklearn.metrics import classification_report\n",
    "print(classification_report(y_test_scaled, predictions,\n",
    "                            target_names=['CONFIRMED', 'FALSE POSITIVE', 'CANDIDATE']))"
   ]
  },
  {
   "cell_type": "code",
   "execution_count": 143,
   "metadata": {},
   "outputs": [
    {
     "name": "stdout",
     "output_type": "stream",
     "text": [
      "Test Acc: 0.853\n"
     ]
    }
   ],
   "source": [
    "# Model Accuracy\n",
    "print('Test Acc: %.3f' % model.score(X_test_scaled, y_test_scaled))"
   ]
  },
  {
   "cell_type": "markdown",
   "metadata": {},
   "source": [
    "## Train the Model - Classifier VI"
   ]
  },
  {
   "cell_type": "code",
   "execution_count": 144,
   "metadata": {},
   "outputs": [],
   "source": [
    "from sklearn.neighbors import KNeighborsClassifier\n",
    "# Support vector machine linear classifier\n",
    "from sklearn.svm import SVC \n",
    "model = SVC(kernel='linear')"
   ]
  },
  {
   "cell_type": "code",
   "execution_count": 145,
   "metadata": {},
   "outputs": [],
   "source": [
    "# Create the GridSearch estimator along with a parameter object containing the values to adjust\n",
    "from sklearn.model_selection import GridSearchCV\n",
    "param_grid = {'C': [8, 16, 32],\n",
    "              'gamma': [0.00001, 0.0001, 0.001]}\n",
    "grid = GridSearchCV(model, param_grid, verbose=3)"
   ]
  },
  {
   "cell_type": "code",
   "execution_count": 146,
   "metadata": {},
   "outputs": [
    {
     "name": "stderr",
     "output_type": "stream",
     "text": [
      "C:\\Users\\ejwda\\Anaconda3\\envs\\PythonData\\lib\\site-packages\\sklearn\\model_selection\\_split.py:1978: FutureWarning: The default value of cv will change from 3 to 5 in version 0.22. Specify it explicitly to silence this warning.\n",
      "  warnings.warn(CV_WARNING, FutureWarning)\n",
      "[Parallel(n_jobs=1)]: Using backend SequentialBackend with 1 concurrent workers.\n",
      "[Parallel(n_jobs=1)]: Done   1 out of   1 | elapsed:    0.0s remaining:    0.0s\n",
      "[Parallel(n_jobs=1)]: Done   2 out of   2 | elapsed:    0.0s remaining:    0.0s\n"
     ]
    },
    {
     "name": "stdout",
     "output_type": "stream",
     "text": [
      "Fitting 3 folds for each of 9 candidates, totalling 27 fits\n",
      "[CV] C=8, gamma=1e-05 ................................................\n",
      "[CV] .................... C=8, gamma=1e-05, score=0.857, total=   0.1s\n",
      "[CV] C=8, gamma=1e-05 ................................................\n",
      "[CV] .................... C=8, gamma=1e-05, score=0.844, total=   0.1s\n",
      "[CV] C=8, gamma=1e-05 ................................................\n",
      "[CV] .................... C=8, gamma=1e-05, score=0.849, total=   0.1s\n",
      "[CV] C=8, gamma=0.0001 ...............................................\n",
      "[CV] ................... C=8, gamma=0.0001, score=0.857, total=   0.1s\n",
      "[CV] C=8, gamma=0.0001 ...............................................\n",
      "[CV] ................... C=8, gamma=0.0001, score=0.844, total=   0.1s\n",
      "[CV] C=8, gamma=0.0001 ...............................................\n",
      "[CV] ................... C=8, gamma=0.0001, score=0.849, total=   0.1s\n",
      "[CV] C=8, gamma=0.001 ................................................\n",
      "[CV] .................... C=8, gamma=0.001, score=0.857, total=   0.1s\n",
      "[CV] C=8, gamma=0.001 ................................................\n",
      "[CV] .................... C=8, gamma=0.001, score=0.844, total=   0.1s\n",
      "[CV] C=8, gamma=0.001 ................................................\n",
      "[CV] .................... C=8, gamma=0.001, score=0.849, total=   0.1s\n",
      "[CV] C=16, gamma=1e-05 ...............................................\n",
      "[CV] ................... C=16, gamma=1e-05, score=0.864, total=   0.1s\n",
      "[CV] C=16, gamma=1e-05 ...............................................\n",
      "[CV] ................... C=16, gamma=1e-05, score=0.851, total=   0.1s\n",
      "[CV] C=16, gamma=1e-05 ...............................................\n",
      "[CV] ................... C=16, gamma=1e-05, score=0.852, total=   0.1s\n",
      "[CV] C=16, gamma=0.0001 ..............................................\n",
      "[CV] .................. C=16, gamma=0.0001, score=0.864, total=   0.1s\n",
      "[CV] C=16, gamma=0.0001 ..............................................\n",
      "[CV] .................. C=16, gamma=0.0001, score=0.851, total=   0.1s\n",
      "[CV] C=16, gamma=0.0001 ..............................................\n",
      "[CV] .................. C=16, gamma=0.0001, score=0.852, total=   0.1s\n",
      "[CV] C=16, gamma=0.001 ...............................................\n",
      "[CV] ................... C=16, gamma=0.001, score=0.864, total=   0.1s\n",
      "[CV] C=16, gamma=0.001 ...............................................\n",
      "[CV] ................... C=16, gamma=0.001, score=0.851, total=   0.1s\n",
      "[CV] C=16, gamma=0.001 ...............................................\n",
      "[CV] ................... C=16, gamma=0.001, score=0.852, total=   0.1s\n",
      "[CV] C=32, gamma=1e-05 ...............................................\n",
      "[CV] ................... C=32, gamma=1e-05, score=0.869, total=   0.1s\n",
      "[CV] C=32, gamma=1e-05 ...............................................\n",
      "[CV] ................... C=32, gamma=1e-05, score=0.860, total=   0.1s\n",
      "[CV] C=32, gamma=1e-05 ...............................................\n",
      "[CV] ................... C=32, gamma=1e-05, score=0.857, total=   0.1s\n",
      "[CV] C=32, gamma=0.0001 ..............................................\n",
      "[CV] .................. C=32, gamma=0.0001, score=0.869, total=   0.1s\n",
      "[CV] C=32, gamma=0.0001 ..............................................\n",
      "[CV] .................. C=32, gamma=0.0001, score=0.860, total=   0.1s\n",
      "[CV] C=32, gamma=0.0001 ..............................................\n",
      "[CV] .................. C=32, gamma=0.0001, score=0.857, total=   0.1s\n",
      "[CV] C=32, gamma=0.001 ...............................................\n",
      "[CV] ................... C=32, gamma=0.001, score=0.869, total=   0.1s\n",
      "[CV] C=32, gamma=0.001 ...............................................\n",
      "[CV] ................... C=32, gamma=0.001, score=0.860, total=   0.1s\n",
      "[CV] C=32, gamma=0.001 ...............................................\n",
      "[CV] ................... C=32, gamma=0.001, score=0.857, total=   0.1s\n"
     ]
    },
    {
     "name": "stderr",
     "output_type": "stream",
     "text": [
      "[Parallel(n_jobs=1)]: Done  27 out of  27 | elapsed:    1.8s finished\n"
     ]
    },
    {
     "data": {
      "text/plain": [
       "GridSearchCV(cv='warn', error_score='raise-deprecating',\n",
       "             estimator=SVC(C=1.0, cache_size=200, class_weight=None, coef0=0.0,\n",
       "                           decision_function_shape='ovr', degree=3,\n",
       "                           gamma='auto_deprecated', kernel='linear',\n",
       "                           max_iter=-1, probability=False, random_state=None,\n",
       "                           shrinking=True, tol=0.001, verbose=False),\n",
       "             iid='warn', n_jobs=None,\n",
       "             param_grid={'C': [8, 16, 32], 'gamma': [1e-05, 0.0001, 0.001]},\n",
       "             pre_dispatch='2*n_jobs', refit=True, return_train_score=False,\n",
       "             scoring=None, verbose=3)"
      ]
     },
     "execution_count": 146,
     "metadata": {},
     "output_type": "execute_result"
    }
   ],
   "source": [
    "grid.fit(X_train_scaled, y_train_scaled)"
   ]
  },
  {
   "cell_type": "code",
   "execution_count": 147,
   "metadata": {},
   "outputs": [
    {
     "name": "stdout",
     "output_type": "stream",
     "text": [
      "{'C': 32, 'gamma': 1e-05}\n"
     ]
    }
   ],
   "source": [
    "# List the best parameters for this dataset\n",
    "print(grid.best_params_)"
   ]
  },
  {
   "cell_type": "code",
   "execution_count": 148,
   "metadata": {},
   "outputs": [],
   "source": [
    "# Make predictions with the hypertuned model\n",
    "predictions = grid.predict(X_test_scaled)"
   ]
  },
  {
   "cell_type": "code",
   "execution_count": 149,
   "metadata": {},
   "outputs": [
    {
     "name": "stdout",
     "output_type": "stream",
     "text": [
      "Test Acc: 0.883\n"
     ]
    }
   ],
   "source": [
    "print('Test Acc: %.3f' % grid.score(X_test_scaled, y_test_scaled))"
   ]
  },
  {
   "cell_type": "code",
   "execution_count": 150,
   "metadata": {},
   "outputs": [
    {
     "name": "stdout",
     "output_type": "stream",
     "text": [
      "                precision    recall  f1-score   support\n",
      "\n",
      "     CONFIRMED       0.87      0.62      0.72       548\n",
      "FALSE POSITIVE       0.71      0.90      0.79       572\n",
      "     CANDIDATE       0.99      1.00      0.99      1188\n",
      "\n",
      "      accuracy                           0.88      2308\n",
      "     macro avg       0.86      0.84      0.84      2308\n",
      "  weighted avg       0.89      0.88      0.88      2308\n",
      "\n"
     ]
    }
   ],
   "source": [
    "# Calculate classification report\n",
    "from sklearn.metrics import classification_report\n",
    "print(classification_report(y_test_scaled, predictions,\n",
    "                            target_names=['CONFIRMED', 'FALSE POSITIVE', 'CANDIDATE']))"
   ]
  },
  {
   "cell_type": "markdown",
   "metadata": {},
   "source": [
    "# Save the Model"
   ]
  },
  {
   "cell_type": "code",
   "execution_count": null,
   "metadata": {},
   "outputs": [],
   "source": [
    "# save your model by updating \"your_name\" with your name\n",
    "# and \"your_model\" with your model variable\n",
    "# be sure to turn this in to BCS\n",
    "# if joblib fails to import, try running the command to install in terminal/git-bash\n",
    "import joblib\n",
    "filename = 'grid-search-results.sav'\n",
    "joblib.dump(grid, filename)"
   ]
  }
 ],
 "metadata": {
  "kernel_info": {
   "name": "dev"
  },
  "kernelspec": {
   "display_name": "Python [conda env:PythonData]",
   "language": "python",
   "name": "conda-env-PythonData-py"
  },
  "language_info": {
   "codemirror_mode": {
    "name": "ipython",
    "version": 3
   },
   "file_extension": ".py",
   "mimetype": "text/x-python",
   "name": "python",
   "nbconvert_exporter": "python",
   "pygments_lexer": "ipython3",
   "version": "3.6.9"
  },
  "nteract": {
   "version": "0.12.3"
  }
 },
 "nbformat": 4,
 "nbformat_minor": 4
}
